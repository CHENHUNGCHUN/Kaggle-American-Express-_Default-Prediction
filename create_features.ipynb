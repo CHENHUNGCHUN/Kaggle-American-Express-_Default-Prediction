{
 "cells": [
  {
   "cell_type": "code",
   "execution_count": 3,
   "id": "7d428bca",
   "metadata": {},
   "outputs": [],
   "source": [
    "import pandas as pd\n",
    "import numpy as np"
   ]
  },
  {
   "cell_type": "code",
   "execution_count": 6,
   "id": "cb9c313b",
   "metadata": {},
   "outputs": [],
   "source": [
    "test_df = pd.read_parquet('test.parquet',engine='pyarrow')\n",
    "train_df = pd.read_parquet('train.parquet',engine='pyarrow')"
   ]
  },
  {
   "cell_type": "code",
   "execution_count": 5,
   "id": "9182ce11",
   "metadata": {},
   "outputs": [],
   "source": [
    "train_df['S_2'] = pd.to_datetime(train_df['S_2'])\n",
    "train_df = train_df.set_index(['customer_ID','S_2']).sort_index().reset_index()"
   ]
  },
  {
   "cell_type": "code",
   "execution_count": 3,
   "id": "bec0361b",
   "metadata": {},
   "outputs": [],
   "source": [
    "test_df['S_2'] = pd.to_datetime(test_df['S_2'])\n",
    "test_df = test_df.set_index(['customer_ID','S_2']).sort_index().reset_index()"
   ]
  },
  {
   "cell_type": "code",
   "execution_count": 7,
   "id": "4a97907c",
   "metadata": {},
   "outputs": [],
   "source": [
    "cat_features = [\"B_30\",\"B_38\",\"D_114\",\"D_116\",\"D_117\",\"D_120\",\"D_126\",\"D_63\",\"D_64\",\"D_66\",\"D_68\"]\n",
    "num_cols = [x for x in train_df.columns if (x not in cat_features) & (x not in ['customer_ID','S_2'])]"
   ]
  },
  {
   "cell_type": "code",
   "execution_count": 6,
   "id": "feaf9e0f",
   "metadata": {},
   "outputs": [],
   "source": [
    "def last_2(arr):\n",
    "    return arr.values[-2] if len(arr) >= 2 else np.nan\n",
    "def last_3(arr):\n",
    "    return arr.values[-3] if len(arr) >= 3 else np.nan"
   ]
  },
  {
   "cell_type": "markdown",
   "id": "669885ec",
   "metadata": {},
   "source": [
    "# Train lag"
   ]
  },
  {
   "cell_type": "code",
   "execution_count": 7,
   "id": "82b74b64",
   "metadata": {},
   "outputs": [],
   "source": [
    "train_num_cols_agg_lag = train_df.groupby('customer_ID')[num_cols].agg([last_2,last_3])\n",
    "train_num_cols_agg_lag.columns = ['_'.join(x) for x in train_num_cols_agg_lag.columns]"
   ]
  },
  {
   "cell_type": "code",
   "execution_count": 8,
   "id": "24d61025",
   "metadata": {},
   "outputs": [],
   "source": [
    "train_cat_features_agg_lag = train_df.groupby('customer_ID')[cat_features].agg([last_2,last_3])\n",
    "train_cat_features_agg_lag.columns = ['_'.join(x) for x in train_cat_features_agg_lag.columns]"
   ]
  },
  {
   "cell_type": "markdown",
   "id": "6ae5f172",
   "metadata": {},
   "source": [
    "# test lag"
   ]
  },
  {
   "cell_type": "code",
   "execution_count": 10,
   "id": "94097775",
   "metadata": {},
   "outputs": [],
   "source": [
    "test_num_cols_agg_lag = test_df.groupby('customer_ID')[num_cols].agg([last_2,last_3])\n",
    "test_num_cols_agg_lag.columns = ['_'.join(x) for x in test_num_cols_agg_lag.columns]"
   ]
  },
  {
   "cell_type": "code",
   "execution_count": 11,
   "id": "957771e5",
   "metadata": {},
   "outputs": [],
   "source": [
    "test_cat_features_agg_lag = test_df.groupby('customer_ID')[cat_features].agg([last_2,last_3])\n",
    "test_cat_features_agg_lag.columns = ['_'.join(x) for x in test_cat_features_agg_lag.columns]"
   ]
  },
  {
   "cell_type": "markdown",
   "id": "1a001d62",
   "metadata": {},
   "source": [
    "# train 合併"
   ]
  },
  {
   "cell_type": "code",
   "execution_count": 13,
   "id": "1c22d565",
   "metadata": {},
   "outputs": [],
   "source": [
    "train_lag = pd.concat([train_num_cols_agg_lag,train_cat_features_agg_lag],axis=1)"
   ]
  },
  {
   "cell_type": "code",
   "execution_count": 14,
   "id": "126a607e",
   "metadata": {},
   "outputs": [],
   "source": [
    "train_lag.to_parquet('train_lag.parquet',index=True)"
   ]
  },
  {
   "cell_type": "markdown",
   "id": "65721ed4",
   "metadata": {},
   "source": [
    "# test 合併"
   ]
  },
  {
   "cell_type": "code",
   "execution_count": 15,
   "id": "1e13884d",
   "metadata": {},
   "outputs": [],
   "source": [
    "test_lag = pd.concat([test_num_cols_agg_lag,test_cat_features_agg_lag],axis=1)"
   ]
  },
  {
   "cell_type": "code",
   "execution_count": 16,
   "id": "4c3ba81e",
   "metadata": {},
   "outputs": [],
   "source": [
    "test_lag.to_parquet('test_lag.parquet',index=True)"
   ]
  },
  {
   "cell_type": "markdown",
   "id": "886541c2",
   "metadata": {},
   "source": [
    "# "
   ]
  },
  {
   "cell_type": "markdown",
   "id": "9d8eeea1",
   "metadata": {},
   "source": [
    "# 做before & after"
   ]
  },
  {
   "cell_type": "code",
   "execution_count": 19,
   "id": "f065c87b",
   "metadata": {},
   "outputs": [],
   "source": [
    "#train data 最後一筆交易全部集中在2018-03\n",
    "#test data要分成指交易到2019-4月跟交易到2019-10月的dataset\n",
    "\n",
    "def before_after_3 (df,startwith,time='2018-03-01'):\n",
    "    \n",
    "    cat_features = [\"B_30\",\"B_38\",\"D_114\",\"D_116\",\"D_117\",\"D_120\",\"D_126\",\"D_63\",\"D_64\",\"D_66\",\"D_68\"]\n",
    "    #防止出現兩次S_2\n",
    "    if startwith == 'S_':\n",
    "        s = pd.concat([df[['customer_ID']],df.loc[:,df.columns.str.startswith(startwith)]],axis=1)\n",
    "    else:    \n",
    "        s = pd.concat([df[['customer_ID','S_2']],df.loc[:,df.columns.str.startswith(startwith)]],axis=1)\n",
    "    #排除分類的columns\n",
    "    for col in s.columns:\n",
    "        if col in cat_features:\n",
    "            s.drop(col,axis=1,inplace=True)\n",
    "        \n",
    "    after_3 = s[s['S_2']>=time].groupby('customer_ID').agg('mean').sort_index()\n",
    "    before_3 = s[s['S_2']<time].groupby('customer_ID').agg('mean').sort_index()\n",
    "    if 'S_2' in s.columns:\n",
    "        s.drop('S_2',axis=1,inplace=True)\n",
    "    x_s = after_3 - before_3\n",
    "    x_s.columns = [i+'_before_after'for i in x_s.columns]\n",
    "    return x_s"
   ]
  },
  {
   "cell_type": "code",
   "execution_count": 20,
   "id": "a3ff9220",
   "metadata": {},
   "outputs": [],
   "source": [
    "firstwith = ['D_','S_','P_','B_','R_']"
   ]
  },
  {
   "cell_type": "code",
   "execution_count": 21,
   "id": "6e271d83",
   "metadata": {},
   "outputs": [],
   "source": [
    "train_df = pd.read_parquet('train.parquet')\n",
    "test_df = pd.read_parquet('test.parquet')\n",
    "train_df.S_2 = pd.to_datetime(train_df.S_2)\n",
    "test_df.S_2 = pd.to_datetime(test_df.S_2)"
   ]
  },
  {
   "cell_type": "markdown",
   "id": "bf1faf90",
   "metadata": {},
   "source": [
    "# Test"
   ]
  },
  {
   "cell_type": "markdown",
   "id": "0ec913a7",
   "metadata": {},
   "source": [
    "## 先把Test data分成4月跟10月"
   ]
  },
  {
   "cell_type": "code",
   "execution_count": 22,
   "id": "7406751c",
   "metadata": {},
   "outputs": [],
   "source": [
    "_=test_df.groupby('customer_ID')['S_2'].nth(-1).dt.month.to_frame()"
   ]
  },
  {
   "cell_type": "code",
   "execution_count": 23,
   "id": "49cc2c28",
   "metadata": {},
   "outputs": [],
   "source": [
    "test_df = test_df.set_index('customer_ID')"
   ]
  },
  {
   "cell_type": "code",
   "execution_count": 24,
   "id": "2a975879",
   "metadata": {},
   "outputs": [],
   "source": [
    "#交易紀錄只到4月的\n",
    "month_4 = _.loc[_['S_2'] == 4,:].index\n",
    "dataset_month4 = test_df.loc[month_4,:].reset_index()"
   ]
  },
  {
   "cell_type": "code",
   "execution_count": 25,
   "id": "a9f8cd9b",
   "metadata": {},
   "outputs": [],
   "source": [
    "#交易紀錄到10月的\n",
    "month_10 = _.loc[_['S_2'] == 10,:].index\n",
    "dataset_month10 = test_df.loc[month_10,:].reset_index()"
   ]
  },
  {
   "cell_type": "markdown",
   "id": "fe9e54d7",
   "metadata": {},
   "source": [
    "## test 4月"
   ]
  },
  {
   "cell_type": "code",
   "execution_count": 26,
   "id": "8a23ef10",
   "metadata": {},
   "outputs": [],
   "source": [
    "#test data的 before-after\n",
    "month_4_df = pd.DataFrame()\n",
    "for i in firstwith:\n",
    "    _ = before_after_3(dataset_month4,i,'2019-04-01')\n",
    "    month_4_df = pd.concat([month_4_df,_],axis=1)"
   ]
  },
  {
   "cell_type": "markdown",
   "id": "2594a5b3",
   "metadata": {},
   "source": [
    "## test 10月"
   ]
  },
  {
   "cell_type": "code",
   "execution_count": 27,
   "id": "0467abbf",
   "metadata": {},
   "outputs": [],
   "source": [
    "#test data的 before-after\n",
    "month_10_df = pd.DataFrame()\n",
    "for i in firstwith:\n",
    "    _ = before_after_3(dataset_month10,i,'2019-10-01')\n",
    "    month_10_df = pd.concat([month_10_df,_],axis=1)"
   ]
  },
  {
   "cell_type": "markdown",
   "id": "4daa2804",
   "metadata": {},
   "source": [
    "## 4月10月合併"
   ]
  },
  {
   "cell_type": "code",
   "execution_count": 28,
   "id": "1ecf1b9d",
   "metadata": {},
   "outputs": [],
   "source": [
    "before_after_test = pd.concat([month_4_df,month_10_df],axis=0)"
   ]
  },
  {
   "cell_type": "code",
   "execution_count": 29,
   "id": "fd8ca3a1",
   "metadata": {},
   "outputs": [],
   "source": [
    "before_after_test.to_parquet('before_after_test.parquet')"
   ]
  },
  {
   "cell_type": "markdown",
   "id": "2765ef05",
   "metadata": {},
   "source": [
    "# Train"
   ]
  },
  {
   "cell_type": "code",
   "execution_count": 30,
   "id": "0cc3155c",
   "metadata": {},
   "outputs": [],
   "source": [
    "before_after_train  = pd.DataFrame()\n",
    "for i in firstwith:\n",
    "    _ = before_after_3(train_df,i,'2018-03-01')\n",
    "    before_after_train = pd.concat([before_after_train,_],axis=1)"
   ]
  },
  {
   "cell_type": "code",
   "execution_count": 31,
   "id": "adc64aa9",
   "metadata": {},
   "outputs": [],
   "source": [
    "before_after_train.to_parquet('before_after_train.parquet')"
   ]
  },
  {
   "cell_type": "markdown",
   "id": "bfe3a8ff",
   "metadata": {},
   "source": [
    "# 最後2、3筆跟此前的平均數差異"
   ]
  },
  {
   "cell_type": "code",
   "execution_count": 8,
   "id": "f79cfb6d",
   "metadata": {},
   "outputs": [],
   "source": [
    "def diff_with_mean_2(arr):\n",
    "    return arr.values[-2]-np.mean(arr[:-2])\n",
    "def diff_with_mean_3(arr):\n",
    "    return arr.values[-3]-np.mean(arr[:-3])"
   ]
  },
  {
   "cell_type": "code",
   "execution_count": 9,
   "id": "fd010277",
   "metadata": {},
   "outputs": [],
   "source": [
    "#train\n",
    "count = train_df.groupby('customer_ID')['P_2'].count().to_frame()\n",
    "count.columns = ['count']\n",
    "train_df=train_df.merge(count,on='customer_ID',how='left')"
   ]
  },
  {
   "cell_type": "code",
   "execution_count": 10,
   "id": "685a955b",
   "metadata": {},
   "outputs": [],
   "source": [
    "#test\n",
    "count = test_df.groupby('customer_ID')['P_2'].count().to_frame()\n",
    "count.columns = ['count']\n",
    "test_df=test_df.merge(count,on='customer_ID',how='left')"
   ]
  },
  {
   "cell_type": "markdown",
   "id": "388fdf21",
   "metadata": {},
   "source": [
    "## 最後第2筆"
   ]
  },
  {
   "cell_type": "code",
   "execution_count": 24,
   "id": "050ba31e",
   "metadata": {},
   "outputs": [],
   "source": [
    "before_after_train_2 = train_df.loc[train_df['count'] >= 3,:].groupby('customer_ID')[num_cols].apply(diff_with_mean_2)\n",
    "before_after_train_2.columns = [i+'_before_after_2'for i in before_after_train_2.columns]"
   ]
  },
  {
   "cell_type": "code",
   "execution_count": 25,
   "id": "6ef3c481",
   "metadata": {},
   "outputs": [],
   "source": [
    "before_after_train_2.to_parquet('before_after_train_2.parquet')"
   ]
  },
  {
   "cell_type": "code",
   "execution_count": 26,
   "id": "06109ec8",
   "metadata": {},
   "outputs": [],
   "source": [
    "before_after_test_2 = test_df.loc[test_df['count'] >= 3,:].groupby('customer_ID')[num_cols].apply(diff_with_mean_2)\n",
    "before_after_test_2.columns = [i+'_before_after_2'for i in before_after_test_2.columns]"
   ]
  },
  {
   "cell_type": "code",
   "execution_count": 27,
   "id": "857b8b1e",
   "metadata": {},
   "outputs": [],
   "source": [
    "before_after_test_2.to_parquet('before_after_test_2.parquet')"
   ]
  },
  {
   "cell_type": "markdown",
   "id": "bb9e4dd7",
   "metadata": {},
   "source": [
    "## 最後第3筆"
   ]
  },
  {
   "cell_type": "code",
   "execution_count": 11,
   "id": "64431524",
   "metadata": {},
   "outputs": [],
   "source": [
    "before_after_train_3 = train_df.loc[train_df['count'] >= 4,:].groupby('customer_ID')[num_cols].apply(diff_with_mean_3)\n",
    "before_after_train_3.columns = [i+'_before_after_3'for i in before_after_train_3.columns]"
   ]
  },
  {
   "cell_type": "code",
   "execution_count": 12,
   "id": "2b23a6b6",
   "metadata": {},
   "outputs": [],
   "source": [
    "before_after_test_3 = test_df.loc[test_df['count'] >= 4,:].groupby('customer_ID')[num_cols].apply(diff_with_mean_3)\n",
    "before_after_test_3.columns = [i+'_before_after_3'for i in before_after_test_3.columns]"
   ]
  },
  {
   "cell_type": "code",
   "execution_count": 13,
   "id": "e9ce8555",
   "metadata": {},
   "outputs": [],
   "source": [
    "before_after_train_3.to_parquet('before_after_train_3.parquet')"
   ]
  },
  {
   "cell_type": "code",
   "execution_count": 14,
   "id": "813d63ce",
   "metadata": {},
   "outputs": [],
   "source": [
    "before_after_test_3.to_parquet('before_after_test_3.parquet')"
   ]
  },
  {
   "cell_type": "markdown",
   "id": "ad5f1fb7",
   "metadata": {},
   "source": [
    "# time的features"
   ]
  },
  {
   "cell_type": "markdown",
   "id": "ede93bcc",
   "metadata": {},
   "source": [
    "## train"
   ]
  },
  {
   "cell_type": "code",
   "execution_count": null,
   "id": "6f801581",
   "metadata": {},
   "outputs": [],
   "source": [
    "df = pd.DataFrame(train_df[['customer_ID','S_2']],columns=['customer_ID','S_2'])\n",
    "df['S_2'] = pd.to_datetime(df['S_2'])\n",
    "df['day_count'] = df[['customer_ID','S_2']].groupby('customer_ID')['S_2'].transform('count')\n",
    "df['S_2_first'] = df[['customer_ID','S_2']].groupby(['customer_ID'])['S_2'].transform('min')\n",
    "df['S_2_last'] = df[['customer_ID','S_2']].groupby('customer_ID')['S_2'].transform('max')\n",
    "df['S_2_period'] = (df[['customer_ID', 'S_2']].groupby(by=['customer_ID'])['S_2'].transform('max') - df[['customer_ID', 'S_2']].groupby(by=['customer_ID'])['S_2'].transform('min')).dt.days\n",
    "df['day_between_statment'] = df[['customer_ID','S_2']].sort_values(['customer_ID','S_2']).groupby(['customer_ID'])['S_2'].transform('diff').dt.days\n",
    "df['day_between_statment'] = df['day_between_statment'].fillna(0)\n",
    "df['day_between_statment_mean'] = df[['customer_ID','day_between_statment']].sort_values(['customer_ID','day_between_statment']).groupby('customer_ID')['day_between_statment'].transform('mean')\n",
    "df['day_between_statment_std'] =df[['customer_ID','day_between_statment']].sort_values(['customer_ID','day_between_statment']).groupby('customer_ID')['day_between_statment'].transform('std')\n",
    "df['day_between_statment_max'] =df[['customer_ID','day_between_statment']].sort_values(['customer_ID','day_between_statment']).groupby('customer_ID')['day_between_statment'].transform('max')\n",
    "df['day_between_statment_min'] =df[['customer_ID','day_between_statment']].sort_values(['customer_ID','day_between_statment']).groupby('customer_ID')['day_between_statment'].transform('min')\n",
    "#計算每筆交易時間跟最後一筆交易時間間隔多久\n",
    "df['S_2'] = (df['S_2_last'] - df['S_2']).dt.days "
   ]
  },
  {
   "cell_type": "code",
   "execution_count": null,
   "id": "f16bb27c",
   "metadata": {},
   "outputs": [],
   "source": [
    "#每個人的最後一筆交易日期 距離全部train data最晚的交易資料差距的天數\n",
    "df['S_2_last_diff'] = (df['S_2_last'].max() - df['S_2_last']).dt.days\n",
    "#每個人的第一筆交易日期 距離全部train data最早的交易資料差距的天數\n",
    "df['S_2_first_diff'] = (df['S_2_first'].min()-df['S_2_first']).dt.days\n",
    "df['S_2_first_dd'] = df['S_2_first'].dt.day\n",
    "df['S_2_first_mm'] = df['S_2_first'].dt.month\n",
    "df['S_2_first_yy'] = df['S_2_first'].dt.year\n",
    "df['S_2_last_dd'] = df['S_2_last'].dt.day\n",
    "df['S_2_last_mm'] = df['S_2_last'].dt.month\n",
    "df['S_2_last_yy'] = df['S_2_last'].dt.year"
   ]
  },
  {
   "cell_type": "code",
   "execution_count": null,
   "id": "91bc38ff",
   "metadata": {},
   "outputs": [],
   "source": [
    "def last_2(series):\n",
    "    return series.values[-2] if len(series.values)>=2 else np.nan\n",
    "\n",
    "def last_3(series):\n",
    "    return series.values[-3] if len(series.values)>=3 else np.nan"
   ]
  },
  {
   "cell_type": "code",
   "execution_count": null,
   "id": "8a04e96c",
   "metadata": {},
   "outputs": [],
   "source": [
    "#S_2是 計算每筆交易時間跟最後一筆交易時間間隔多久\n",
    "agg_df =df.groupby('customer_ID').agg({'S_2':['last',last_2,last_3],'day_between_statment':['last',last_2,last_3]})\n",
    "agg_df.columns = [i+'_'+j for i in ['S_2', 'days_between_statements'] for j in ['last', 'last_2', 'last_3']]"
   ]
  },
  {
   "cell_type": "code",
   "execution_count": null,
   "id": "00af313b",
   "metadata": {},
   "outputs": [],
   "source": [
    "df = df.groupby('customer_ID').first()\n",
    "df = df.merge(agg_df,how='inner',left_index=True, right_index=True)\n",
    "df = df.drop(['S_2','day_between_statment','S_2_first','S_2_last_x'],axis=1)\n",
    "df.to_parquet('train_time_features.parquet')"
   ]
  },
  {
   "cell_type": "markdown",
   "id": "2272123c",
   "metadata": {},
   "source": [
    "## test"
   ]
  },
  {
   "cell_type": "code",
   "execution_count": null,
   "id": "f6e0d640",
   "metadata": {},
   "outputs": [],
   "source": [
    "df = pd.DataFrame(test_df[['customer_ID','S_2']],columns=['customer_ID','S_2'])\n",
    "df['S_2'] = pd.to_datetime(df['S_2'])\n",
    "df['day_count'] = df[['customer_ID','S_2']].groupby('customer_ID')['S_2'].transform('count')\n",
    "df['S_2_first'] = df[['customer_ID','S_2']].groupby(['customer_ID'])['S_2'].transform('min')\n",
    "df['S_2_last'] = df[['customer_ID','S_2']].groupby('customer_ID')['S_2'].transform('max')\n",
    "df['S_2_period'] = (df[['customer_ID', 'S_2']].groupby(by=['customer_ID'])['S_2'].transform('max') - df[['customer_ID', 'S_2']].groupby(by=['customer_ID'])['S_2'].transform('min')).dt.days\n",
    "df['day_between_statment'] = df[['customer_ID','S_2']].sort_values(['customer_ID','S_2']).groupby(['customer_ID'])['S_2'].transform('diff').dt.days\n",
    "df['day_between_statment'] = df['day_between_statment'].fillna(0)"
   ]
  },
  {
   "cell_type": "code",
   "execution_count": null,
   "id": "c2bcd1e7",
   "metadata": {},
   "outputs": [],
   "source": [
    "df['day_between_statment_mean'] = df[['customer_ID','day_between_statment']].sort_values(['customer_ID','day_between_statment']).groupby('customer_ID')['day_between_statment'].transform('mean')\n",
    "df['day_between_statment_std'] =df[['customer_ID','day_between_statment']].sort_values(['customer_ID','day_between_statment']).groupby('customer_ID')['day_between_statment'].transform('std')\n",
    "df['day_between_statment_max'] =df[['customer_ID','day_between_statment']].sort_values(['customer_ID','day_between_statment']).groupby('customer_ID')['day_between_statment'].transform('max')\n",
    "df['day_between_statment_min'] =df[['customer_ID','day_between_statment']].sort_values(['customer_ID','day_between_statment']).groupby('customer_ID')['day_between_statment'].transform('min')"
   ]
  },
  {
   "cell_type": "code",
   "execution_count": null,
   "id": "94125609",
   "metadata": {},
   "outputs": [],
   "source": [
    "df['S_2'] = (df['S_2_last'] - df['S_2']).dt.days \n",
    "df['S_2_last_diff'] = (df['S_2_last'].max() - df['S_2_last']).dt.days\n",
    "df['S_2_first_diff'] = (df['S_2_first'].min()-df['S_2_first']).dt.days"
   ]
  },
  {
   "cell_type": "code",
   "execution_count": null,
   "id": "ba4ce3fd",
   "metadata": {},
   "outputs": [],
   "source": [
    "df['S_2_first_dd'] = df['S_2_first'].dt.day\n",
    "df['S_2_first_mm'] = df['S_2_first'].dt.month\n",
    "df['S_2_first_yy'] = df['S_2_first'].dt.year"
   ]
  },
  {
   "cell_type": "code",
   "execution_count": null,
   "id": "7a0b5a3a",
   "metadata": {},
   "outputs": [],
   "source": [
    "df['S_2_last_dd'] = df['S_2_last'].dt.day\n",
    "df['S_2_last_mm'] = df['S_2_last'].dt.month\n",
    "df['S_2_last_yy'] = df['S_2_last'].dt.year"
   ]
  },
  {
   "cell_type": "code",
   "execution_count": null,
   "id": "8cfa995f",
   "metadata": {},
   "outputs": [],
   "source": [
    "agg_df =df.groupby('customer_ID').agg({'S_2':['last',last_2,last_3],'day_between_statment':['last',last_2,last_3]})\n",
    "agg_df.columns = [i+'_'+j for i in ['S_2', 'days_between_statements'] for j in ['last', 'last_2', 'last_3']]\n",
    "df = df.groupby('customer_ID').first()\n",
    "df = df.merge(agg_df,how='inner',left_index=True, right_index=True)"
   ]
  },
  {
   "cell_type": "code",
   "execution_count": null,
   "id": "b6b8fada",
   "metadata": {},
   "outputs": [],
   "source": [
    "df = df.drop(['S_2','day_between_statment','S_2_first','S_2_last_x'],axis=1)\n",
    "df.to_parquet('test_time_features.parquet')"
   ]
  },
  {
   "cell_type": "code",
   "execution_count": null,
   "id": "6360415a",
   "metadata": {},
   "outputs": [],
   "source": []
  },
  {
   "cell_type": "code",
   "execution_count": null,
   "id": "ce04a5a8",
   "metadata": {},
   "outputs": [],
   "source": []
  },
  {
   "cell_type": "code",
   "execution_count": null,
   "id": "f535061e",
   "metadata": {},
   "outputs": [],
   "source": []
  },
  {
   "cell_type": "code",
   "execution_count": null,
   "id": "e1690ae6",
   "metadata": {},
   "outputs": [],
   "source": []
  }
 ],
 "metadata": {
  "kernelspec": {
   "display_name": "Python 3 (ipykernel)",
   "language": "python",
   "name": "python3"
  },
  "language_info": {
   "codemirror_mode": {
    "name": "ipython",
    "version": 3
   },
   "file_extension": ".py",
   "mimetype": "text/x-python",
   "name": "python",
   "nbconvert_exporter": "python",
   "pygments_lexer": "ipython3",
   "version": "3.9.7"
  }
 },
 "nbformat": 4,
 "nbformat_minor": 5
}
